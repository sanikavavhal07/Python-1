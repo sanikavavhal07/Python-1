{
 "cells": [
  {
   "cell_type": "code",
   "execution_count": 1,
   "id": "8a8aa25c-aef6-4182-b150-43314027aea2",
   "metadata": {},
   "outputs": [
    {
     "name": "stdout",
     "output_type": "stream",
     "text": [
      "Sanika\n"
     ]
    }
   ],
   "source": [
    "print(\"Sanika\")"
   ]
  },
  {
   "cell_type": "code",
   "execution_count": 2,
   "id": "4ef7b456-ade6-4955-b68d-b68204b8ca3c",
   "metadata": {},
   "outputs": [],
   "source": [
    "name = \"robin\""
   ]
  },
  {
   "cell_type": "code",
   "execution_count": 3,
   "id": "9fe4cc5e-52b4-4fa1-a879-05301227ac8d",
   "metadata": {},
   "outputs": [
    {
     "ename": "SyntaxError",
     "evalue": "invalid decimal literal (3651449192.py, line 1)",
     "output_type": "error",
     "traceback": [
      "\u001b[1;36m  Cell \u001b[1;32mIn[3], line 1\u001b[1;36m\u001b[0m\n\u001b[1;33m    24servive = \"available\"\u001b[0m\n\u001b[1;37m     ^\u001b[0m\n\u001b[1;31mSyntaxError\u001b[0m\u001b[1;31m:\u001b[0m invalid decimal literal\n"
     ]
    }
   ],
   "source": [
    "24servive = \"available\""
   ]
  },
  {
   "cell_type": "code",
   "execution_count": 4,
   "id": "68f64d8e-b10d-42ee-a454-a991f5525f61",
   "metadata": {},
   "outputs": [],
   "source": [
    "ace123 = 123"
   ]
  },
  {
   "cell_type": "code",
   "execution_count": 5,
   "id": "8fc8aa89-2faf-474d-b08a-56cd66534807",
   "metadata": {},
   "outputs": [
    {
     "ename": "SyntaxError",
     "evalue": "leading zeros in decimal integer literals are not permitted; use an 0o prefix for octal integers (3488009103.py, line 1)",
     "output_type": "error",
     "traceback": [
      "\u001b[1;36m  Cell \u001b[1;32mIn[5], line 1\u001b[1;36m\u001b[0m\n\u001b[1;33m    _insta = 0907\u001b[0m\n\u001b[1;37m             ^\u001b[0m\n\u001b[1;31mSyntaxError\u001b[0m\u001b[1;31m:\u001b[0m leading zeros in decimal integer literals are not permitted; use an 0o prefix for octal integers\n"
     ]
    }
   ],
   "source": [
    "_insta = 0907"
   ]
  },
  {
   "cell_type": "code",
   "execution_count": 6,
   "id": "5d1583b1-0c46-4a06-b02d-059eb30d8893",
   "metadata": {},
   "outputs": [
    {
     "ename": "SyntaxError",
     "evalue": "leading zeros in decimal integer literals are not permitted; use an 0o prefix for octal integers (828489168.py, line 1)",
     "output_type": "error",
     "traceback": [
      "\u001b[1;36m  Cell \u001b[1;32mIn[6], line 1\u001b[1;36m\u001b[0m\n\u001b[1;33m    sanika@09 = 07\u001b[0m\n\u001b[1;37m           ^\u001b[0m\n\u001b[1;31mSyntaxError\u001b[0m\u001b[1;31m:\u001b[0m leading zeros in decimal integer literals are not permitted; use an 0o prefix for octal integers\n"
     ]
    }
   ],
   "source": [
    "sanika@09 = 07"
   ]
  },
  {
   "cell_type": "code",
   "execution_count": 7,
   "id": "16d0958f-93cd-483a-b4fd-4905dac1014a",
   "metadata": {},
   "outputs": [],
   "source": [
    "name = \"sanika\""
   ]
  },
  {
   "cell_type": "code",
   "execution_count": 8,
   "id": "91553e53-253b-4c0d-a740-faf8a37e4cbf",
   "metadata": {},
   "outputs": [
    {
     "data": {
      "text/plain": [
       "'sanika'"
      ]
     },
     "execution_count": 8,
     "metadata": {},
     "output_type": "execute_result"
    }
   ],
   "source": [
    "name"
   ]
  },
  {
   "cell_type": "code",
   "execution_count": 9,
   "id": "3a38dd60-7d16-4e3d-9942-a6c455200a88",
   "metadata": {},
   "outputs": [],
   "source": [
    "_in = 345"
   ]
  },
  {
   "cell_type": "code",
   "execution_count": 10,
   "id": "dc1d2067-63b5-46fe-99c1-66d725dc15c3",
   "metadata": {},
   "outputs": [
    {
     "data": {
      "text/plain": [
       "345"
      ]
     },
     "execution_count": 10,
     "metadata": {},
     "output_type": "execute_result"
    }
   ],
   "source": [
    "_in"
   ]
  },
  {
   "cell_type": "code",
   "execution_count": 11,
   "id": "5c44ea55-64d7-4d78-8bfb-de5ec390a34c",
   "metadata": {},
   "outputs": [
    {
     "ename": "SyntaxError",
     "evalue": "invalid syntax (2300066369.py, line 1)",
     "output_type": "error",
     "traceback": [
      "\u001b[1;36m  Cell \u001b[1;32mIn[11], line 1\u001b[1;36m\u001b[0m\n\u001b[1;33m    sanika@ = 123\u001b[0m\n\u001b[1;37m            ^\u001b[0m\n\u001b[1;31mSyntaxError\u001b[0m\u001b[1;31m:\u001b[0m invalid syntax\n"
     ]
    }
   ],
   "source": [
    "sanika@ = 123"
   ]
  },
  {
   "cell_type": "code",
   "execution_count": 12,
   "id": "4351b6bf-82b8-4c5f-a3b6-ed80fe1e1075",
   "metadata": {},
   "outputs": [
    {
     "ename": "NameError",
     "evalue": "name 'typeof' is not defined",
     "output_type": "error",
     "traceback": [
      "\u001b[1;31m---------------------------------------------------------------------------\u001b[0m",
      "\u001b[1;31mNameError\u001b[0m                                 Traceback (most recent call last)",
      "Cell \u001b[1;32mIn[12], line 1\u001b[0m\n\u001b[1;32m----> 1\u001b[0m typeof(name)\n",
      "\u001b[1;31mNameError\u001b[0m: name 'typeof' is not defined"
     ]
    }
   ],
   "source": [
    "typeof(name)"
   ]
  },
  {
   "cell_type": "code",
   "execution_count": 13,
   "id": "99a546a9-b932-41ba-a956-4715d70f39cb",
   "metadata": {},
   "outputs": [
    {
     "data": {
      "text/plain": [
       "str"
      ]
     },
     "execution_count": 13,
     "metadata": {},
     "output_type": "execute_result"
    }
   ],
   "source": [
    "type(name)"
   ]
  },
  {
   "cell_type": "code",
   "execution_count": 14,
   "id": "f4df3788-97ed-43bf-bc3e-118ec66a1518",
   "metadata": {},
   "outputs": [
    {
     "data": {
      "text/plain": [
       "int"
      ]
     },
     "execution_count": 14,
     "metadata": {},
     "output_type": "execute_result"
    }
   ],
   "source": [
    "type(_in)"
   ]
  },
  {
   "cell_type": "code",
   "execution_count": 15,
   "id": "f5e40676-1a09-4d0d-9081-30b8ab70bcc2",
   "metadata": {},
   "outputs": [],
   "source": [
    "perc = 90.8"
   ]
  },
  {
   "cell_type": "code",
   "execution_count": 16,
   "id": "b35d15c3-e8f7-4e16-ba69-17fb6c026de4",
   "metadata": {},
   "outputs": [
    {
     "data": {
      "text/plain": [
       "float"
      ]
     },
     "execution_count": 16,
     "metadata": {},
     "output_type": "execute_result"
    }
   ],
   "source": [
    "type(perc)"
   ]
  },
  {
   "cell_type": "code",
   "execution_count": 17,
   "id": "37db4f1d-127e-493c-8fc0-a1cdf5e30015",
   "metadata": {},
   "outputs": [
    {
     "ename": "NameError",
     "evalue": "name 'true' is not defined",
     "output_type": "error",
     "traceback": [
      "\u001b[1;31m---------------------------------------------------------------------------\u001b[0m",
      "\u001b[1;31mNameError\u001b[0m                                 Traceback (most recent call last)",
      "Cell \u001b[1;32mIn[17], line 1\u001b[0m\n\u001b[1;32m----> 1\u001b[0m data \u001b[38;5;241m=\u001b[39m true\n",
      "\u001b[1;31mNameError\u001b[0m: name 'true' is not defined"
     ]
    }
   ],
   "source": [
    "data = true"
   ]
  },
  {
   "cell_type": "code",
   "execution_count": 18,
   "id": "b6eb34c2-b775-455c-a412-621a44f21795",
   "metadata": {},
   "outputs": [],
   "source": [
    "data = True"
   ]
  },
  {
   "cell_type": "code",
   "execution_count": 19,
   "id": "27844ab0-e421-40ce-b944-ac6daf3d728b",
   "metadata": {},
   "outputs": [
    {
     "data": {
      "text/plain": [
       "bool"
      ]
     },
     "execution_count": 19,
     "metadata": {},
     "output_type": "execute_result"
    }
   ],
   "source": [
    "type(data)"
   ]
  },
  {
   "cell_type": "code",
   "execution_count": 6,
   "id": "fdcb3344-1fcc-4ee1-9667-f2628042c92c",
   "metadata": {},
   "outputs": [
    {
     "name": "stdin",
     "output_type": "stream",
     "text": [
      "Enter first number :  16\n",
      "Enter second number :  4\n"
     ]
    },
    {
     "name": "stdout",
     "output_type": "stream",
     "text": [
      "Addition of given numbers is :  20\n",
      "Difference between given numbers is :  12\n",
      "Multiplication of given numbers is :  64\n",
      "Division of given numbers is :  4.0\n",
      "Exponential of given numbers is :  65536\n",
      "Remainder of given numbers is :  0\n",
      "First number is greater :  True\n"
     ]
    }
   ],
   "source": [
    "num_1 = int(input(\"Enter first number : \"))\n",
    "num_2 = int(input(\"Enter second number : \"))\n",
    "print(\"Addition of given numbers is : \", num_1 + num_2)\n",
    "print(\"Difference between given numbers is : \", num_1 - num_2)\n",
    "print(\"Multiplication of given numbers is : \", num_1 * num_2)\n",
    "print(\"Division of given numbers is : \", num_1 / num_2)\n",
    "print(\"Exponential of given numbers is : \", num_1 ** num_2)\n",
    "print(\"Remainder of given numbers is : \", num_1 % num_2)\n",
    "print(\"First number is greater : \", num_1 > num_2)"
   ]
  },
  {
   "cell_type": "code",
   "execution_count": 8,
   "id": "a07958ee-e475-484b-a08a-98e473d45c54",
   "metadata": {},
   "outputs": [
    {
     "name": "stdout",
     "output_type": "stream",
     "text": [
      "For area of SQUARE\n"
     ]
    },
    {
     "name": "stdin",
     "output_type": "stream",
     "text": [
      "Enter the side in cm :  6.9\n"
     ]
    },
    {
     "name": "stdout",
     "output_type": "stream",
     "text": [
      "Area of square is :  47.61 sq cm\n",
      "\n",
      "For area of RECTANGLE\n"
     ]
    },
    {
     "name": "stdin",
     "output_type": "stream",
     "text": [
      "Enter the length in cm :  15\n",
      "Enter the breadth in cm :  30.8\n"
     ]
    },
    {
     "name": "stdout",
     "output_type": "stream",
     "text": [
      "Area of rectangle is :  462.0 sq cm\n",
      "\n",
      "For area of TRIANGLE\n"
     ]
    },
    {
     "name": "stdin",
     "output_type": "stream",
     "text": [
      "Enter the height in cm :  7\n",
      "Enter the base in cm :  5\n"
     ]
    },
    {
     "name": "stdout",
     "output_type": "stream",
     "text": [
      "Area of triangle is :  17.5 sq cm\n",
      "\n",
      "For area of CIRCLE\n"
     ]
    },
    {
     "name": "stdin",
     "output_type": "stream",
     "text": [
      "Enter the radius in cm :  6.7\n"
     ]
    },
    {
     "name": "stdout",
     "output_type": "stream",
     "text": [
      "Area of circle is :  140.95 sq cm\n",
      "\n"
     ]
    }
   ],
   "source": [
    "print(\"For area of SQUARE\")\n",
    "side = float(input(\"Enter the side in cm : \"))\n",
    "print(\"Area of square is : \", round(side*side, 2), \"sq cm\\n\")\n",
    "\n",
    "print(\"For area of RECTANGLE\")\n",
    "len = float(input(\"Enter the length in cm : \"))\n",
    "bre = float(input(\"Enter the breadth in cm : \"))\n",
    "print(\"Area of rectangle is : \", round(len*bre, 2), \"sq cm\\n\")\n",
    "\n",
    "print(\"For area of TRIANGLE\")\n",
    "height = float(input(\"Enter the height in cm : \"))\n",
    "base = float(input(\"Enter the base in cm : \"))\n",
    "print(\"Area of triangle is : \", round(0.5*base*height, 2), \"sq cm\\n\")\n",
    "\n",
    "print(\"For area of CIRCLE\")\n",
    "radius = float(input(\"Enter the radius in cm : \"))\n",
    "print(\"Area of circle is : \", round(3.14*radius*radius, 2), \"sq cm\\n\")"
   ]
  },
  {
   "cell_type": "code",
   "execution_count": null,
   "id": "612ec7fe-6aaf-46f4-85f0-e28ba7916cfd",
   "metadata": {},
   "outputs": [],
   "source": []
  }
 ],
 "metadata": {
  "kernelspec": {
   "display_name": "Python 3 (ipykernel)",
   "language": "python",
   "name": "python3"
  },
  "language_info": {
   "codemirror_mode": {
    "name": "ipython",
    "version": 3
   },
   "file_extension": ".py",
   "mimetype": "text/x-python",
   "name": "python",
   "nbconvert_exporter": "python",
   "pygments_lexer": "ipython3",
   "version": "3.12.4"
  }
 },
 "nbformat": 4,
 "nbformat_minor": 5
}
